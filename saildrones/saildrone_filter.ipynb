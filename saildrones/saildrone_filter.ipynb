{
 "cells": [
  {
   "attachments": {},
   "cell_type": "markdown",
   "metadata": {},
   "source": [
    "# Filter saildrone data\n",
    "\n",
    "This notebook looks at data from [NOAA/PMEL 2019 Arctic Saildrone Missions](https://data.pmel.noaa.gov/pmel/erddap/search/index.html?page=1&itemsPerPage=1000&searchFor=NOAA%2FPMEL+2019+arctic+saildrone+mission). Used to test methods so datasets to only hold variables of interest. A standalone script to filter the data is found under /saildrones/saildrone_filter.py"
   ]
  },
  {
   "cell_type": "code",
   "execution_count": null,
   "metadata": {},
   "outputs": [],
   "source": [
    "import xarray as xr"
   ]
  },
  {
   "cell_type": "code",
   "execution_count": 2,
   "metadata": {},
   "outputs": [],
   "source": [
    "INPATH = 'D:/saildrone/all/'\n",
    "OUTPATH = 'D:/saildrone/filtered/'\n",
    "SDVARS = ['TEMP_AIR_MEAN','BARO_PRES_MEAN','UWND_MEAN', 'VWND_MEAN','TEMP_SBE37_MEAN','RH_MEAN']"
   ]
  },
  {
   "cell_type": "code",
   "execution_count": 3,
   "metadata": {},
   "outputs": [
    {
     "name": "stdout",
     "output_type": "stream",
     "text": [
      "<xarray.Dataset>\n",
      "Dimensions:                          (time: 197608)\n",
      "Coordinates:\n",
      "    trajectory                       float32 ...\n",
      "  * time                             (time) datetime64[ns] 2019-05-16T22:00:0...\n",
      "    latitude                         (time) float64 ...\n",
      "    longitude                        (time) float64 ...\n",
      "Data variables: (12/93)\n",
      "    SOG                              (time) float64 ...\n",
      "    SOG_FILTERED_MEAN                (time) float64 ...\n",
      "    SOG_FILTERED_STDDEV              (time) float64 ...\n",
      "    SOG_FILTERED_MAX                 (time) float64 ...\n",
      "    SOG_FILTERED_MIN                 (time) float64 ...\n",
      "    COG                              (time) float64 ...\n",
      "    ...                               ...\n",
      "    TEMP_O2_RBR_MEAN                 (time) float64 ...\n",
      "    TEMP_O2_RBR_STDDEV               (time) float64 ...\n",
      "    CHLOR_WETLABS_MEAN               (time) float64 ...\n",
      "    CHLOR_WETLABS_STDDEV             (time) float64 ...\n",
      "    CHLOR_RBR_MEAN                   (time) float64 ...\n",
      "    CHLOR_RBR_STDDEV                 (time) float64 ...\n"
     ]
    }
   ],
   "source": [
    "saildrone = xr.open_dataset(INPATH+'Arctic2019_sd1034_all.nc')\n",
    "print(saildrone)"
   ]
  },
  {
   "cell_type": "code",
   "execution_count": 4,
   "metadata": {},
   "outputs": [
    {
     "name": "stdout",
     "output_type": "stream",
     "text": [
      "<xarray.Dataset>\n",
      "Dimensions:          (time: 197608)\n",
      "Coordinates:\n",
      "    trajectory       float32 ...\n",
      "  * time             (time) datetime64[ns] 2019-05-16T22:00:00 ... 2019-10-01...\n",
      "    latitude         (time) float64 ...\n",
      "    longitude        (time) float64 ...\n",
      "Data variables:\n",
      "    TEMP_AIR_MEAN    (time) float64 ...\n",
      "    BARO_PRES_MEAN   (time) float64 ...\n",
      "    UWND_MEAN        (time) float64 ...\n",
      "    VWND_MEAN        (time) float64 ...\n",
      "    TEMP_SBE37_MEAN  (time) float64 ...\n",
      "    RH_MEAN          (time) float64 ...\n"
     ]
    }
   ],
   "source": [
    "test = saildrone[SDVARS]\n",
    "print(test)"
   ]
  }
 ],
 "metadata": {
  "interpreter": {
   "hash": "149b4fb79e250e15e08ed533358981b41310b59f375b61d1793c97f29e53951b"
  },
  "kernelspec": {
   "display_name": "Python 3.9.5 64-bit",
   "name": "python3"
  },
  "language_info": {
   "codemirror_mode": {
    "name": "ipython",
    "version": 3
   },
   "file_extension": ".py",
   "mimetype": "text/x-python",
   "name": "python",
   "nbconvert_exporter": "python",
   "pygments_lexer": "ipython3",
   "version": "3.11.1"
  },
  "orig_nbformat": 4
 },
 "nbformat": 4,
 "nbformat_minor": 2
}
